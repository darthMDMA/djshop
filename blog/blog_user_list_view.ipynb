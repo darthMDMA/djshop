{
 "cells": [
  {
   "cell_type": "code",
   "execution_count": 2,
   "id": "1084526c",
   "metadata": {},
   "outputs": [],
   "source": [
    "from django.db import models\n",
    "from blog.models import Post\n",
    "from discussions.models import Discussion"
   ]
  },
  {
   "cell_type": "code",
   "execution_count": 3,
   "id": "18bd2f1b",
   "metadata": {},
   "outputs": [],
   "source": [
    "post = Post.objects.get(id=1)"
   ]
  },
  {
   "cell_type": "code",
   "execution_count": 1,
   "id": "8630470c",
   "metadata": {},
   "outputs": [
    {
     "ename": "NameError",
     "evalue": "name 'post' is not defined",
     "output_type": "error",
     "traceback": [
      "\u001b[1;31m---------------------------------------------------------------------------\u001b[0m",
      "\u001b[1;31mNameError\u001b[0m                                 Traceback (most recent call last)",
      "Cell \u001b[1;32mIn[1], line 1\u001b[0m\n\u001b[1;32m----> 1\u001b[0m \u001b[43mpost\u001b[49m\n",
      "\u001b[1;31mNameError\u001b[0m: name 'post' is not defined"
     ]
    }
   ],
   "source": [
    "post"
   ]
  },
  {
   "cell_type": "code",
   "execution_count": 2,
   "id": "a49b9802",
   "metadata": {},
   "outputs": [
    {
     "ename": "ImportError",
     "evalue": "cannot import name 'Discussion' from 'discussions.models' (D:\\PITON\\djshop\\discussions\\models.py)",
     "output_type": "error",
     "traceback": [
      "\u001b[1;31m---------------------------------------------------------------------------\u001b[0m",
      "\u001b[1;31mImportError\u001b[0m                               Traceback (most recent call last)",
      "Cell \u001b[1;32mIn[2], line 3\u001b[0m\n\u001b[0;32m      1\u001b[0m \u001b[38;5;28;01mfrom\u001b[39;00m \u001b[38;5;21;01mdjango\u001b[39;00m\u001b[38;5;21;01m.\u001b[39;00m\u001b[38;5;21;01mdb\u001b[39;00m \u001b[38;5;28;01mimport\u001b[39;00m models\n\u001b[0;32m      2\u001b[0m \u001b[38;5;28;01mfrom\u001b[39;00m \u001b[38;5;21;01mblog\u001b[39;00m\u001b[38;5;21;01m.\u001b[39;00m\u001b[38;5;21;01mmodels\u001b[39;00m \u001b[38;5;28;01mimport\u001b[39;00m Post\n\u001b[1;32m----> 3\u001b[0m \u001b[38;5;28;01mfrom\u001b[39;00m \u001b[38;5;21;01mdiscussions\u001b[39;00m\u001b[38;5;21;01m.\u001b[39;00m\u001b[38;5;21;01mmodels\u001b[39;00m \u001b[38;5;28;01mimport\u001b[39;00m Discussion\n",
      "\u001b[1;31mImportError\u001b[0m: cannot import name 'Discussion' from 'discussions.models' (D:\\PITON\\djshop\\discussions\\models.py)"
     ]
    }
   ],
   "source": [
    "from django.db import models\n",
    "from blog.models import Post\n",
    "from discussions.models import Discussion"
   ]
  },
  {
   "cell_type": "code",
   "execution_count": 3,
   "id": "2c9246ff",
   "metadata": {},
   "outputs": [],
   "source": [
    "from django.db import models\n",
    "from blog.models import Post\n",
    "from discussions.models import Comment"
   ]
  },
  {
   "cell_type": "code",
   "execution_count": 4,
   "id": "4039e00d",
   "metadata": {},
   "outputs": [],
   "source": [
    "post = Post.objects.get(id=1)"
   ]
  },
  {
   "cell_type": "code",
   "execution_count": 5,
   "id": "bc0a577e",
   "metadata": {},
   "outputs": [
    {
     "data": {
      "text/plain": [
       "<Post: BWM>"
      ]
     },
     "execution_count": 5,
     "metadata": {},
     "output_type": "execute_result"
    }
   ],
   "source": [
    "post"
   ]
  },
  {
   "cell_type": "code",
   "execution_count": 6,
   "id": "08fe38cb",
   "metadata": {},
   "outputs": [
    {
     "data": {
      "text/plain": [
       "<django.db.models.fields.related_descriptors.create_reverse_many_to_one_manager.<locals>.RelatedManager at 0x1cdcd491c10>"
      ]
     },
     "execution_count": 6,
     "metadata": {},
     "output_type": "execute_result"
    }
   ],
   "source": [
    "post.comments"
   ]
  },
  {
   "cell_type": "code",
   "execution_count": 7,
   "id": "eef1005b",
   "metadata": {},
   "outputs": [
    {
     "data": {
      "text/plain": [
       "<QuerySet [<Comment: Comment object (1)>]>"
      ]
     },
     "execution_count": 7,
     "metadata": {},
     "output_type": "execute_result"
    }
   ],
   "source": [
    "post.comments.all()"
   ]
  },
  {
   "cell_type": "code",
   "execution_count": 8,
   "id": "c9912212",
   "metadata": {},
   "outputs": [
    {
     "ename": "AttributeError",
     "evalue": "'Post' object has no attribute 'coments'",
     "output_type": "error",
     "traceback": [
      "\u001b[1;31m---------------------------------------------------------------------------\u001b[0m",
      "\u001b[1;31mAttributeError\u001b[0m                            Traceback (most recent call last)",
      "Cell \u001b[1;32mIn[8], line 1\u001b[0m\n\u001b[1;32m----> 1\u001b[0m comment \u001b[38;5;241m=\u001b[39m \u001b[43mpost\u001b[49m\u001b[38;5;241;43m.\u001b[39;49m\u001b[43mcoments\u001b[49m\u001b[38;5;241m.\u001b[39mall()\n",
      "\u001b[1;31mAttributeError\u001b[0m: 'Post' object has no attribute 'coments'"
     ]
    }
   ],
   "source": [
    "comment = post.coments.all()"
   ]
  },
  {
   "cell_type": "code",
   "execution_count": 9,
   "id": "c7749a88",
   "metadata": {},
   "outputs": [
    {
     "ename": "AttributeError",
     "evalue": "'Post' object has no attribute 'com'",
     "output_type": "error",
     "traceback": [
      "\u001b[1;31m---------------------------------------------------------------------------\u001b[0m",
      "\u001b[1;31mAttributeError\u001b[0m                            Traceback (most recent call last)",
      "Cell \u001b[1;32mIn[9], line 1\u001b[0m\n\u001b[1;32m----> 1\u001b[0m comment \u001b[38;5;241m=\u001b[39m \u001b[43mpost\u001b[49m\u001b[38;5;241;43m.\u001b[39;49m\u001b[43mcom\u001b[49m,ents\u001b[38;5;241m.\u001b[39mall()\n",
      "\u001b[1;31mAttributeError\u001b[0m: 'Post' object has no attribute 'com'"
     ]
    }
   ],
   "source": [
    "comment = post.com,ents.all()"
   ]
  },
  {
   "cell_type": "code",
   "execution_count": 10,
   "id": "5dfdeeba",
   "metadata": {},
   "outputs": [],
   "source": [
    "comment = post.comments.all()"
   ]
  },
  {
   "cell_type": "code",
   "execution_count": 11,
   "id": "85d7a2ce",
   "metadata": {},
   "outputs": [
    {
     "data": {
      "text/plain": [
       "<QuerySet [<Comment: Comment object (1)>]>"
      ]
     },
     "execution_count": 11,
     "metadata": {},
     "output_type": "execute_result"
    }
   ],
   "source": [
    "comment"
   ]
  },
  {
   "cell_type": "code",
   "execution_count": 12,
   "id": "ba946ead",
   "metadata": {},
   "outputs": [
    {
     "ename": "AttributeError",
     "evalue": "'QuerySet' object has no attribute 'content'",
     "output_type": "error",
     "traceback": [
      "\u001b[1;31m---------------------------------------------------------------------------\u001b[0m",
      "\u001b[1;31mAttributeError\u001b[0m                            Traceback (most recent call last)",
      "Cell \u001b[1;32mIn[12], line 1\u001b[0m\n\u001b[1;32m----> 1\u001b[0m \u001b[43mcomment\u001b[49m\u001b[38;5;241;43m.\u001b[39;49m\u001b[43mcontent\u001b[49m\n",
      "\u001b[1;31mAttributeError\u001b[0m: 'QuerySet' object has no attribute 'content'"
     ]
    }
   ],
   "source": [
    "comment.content"
   ]
  },
  {
   "cell_type": "code",
   "execution_count": 13,
   "id": "c25a8111",
   "metadata": {},
   "outputs": [
    {
     "name": "stdout",
     "output_type": "stream",
     "text": [
      "Comment object (1)\n"
     ]
    }
   ],
   "source": [
    "for i in comment:\n",
    "    print(i)"
   ]
  },
  {
   "cell_type": "code",
   "execution_count": 14,
   "id": "dcbced71",
   "metadata": {},
   "outputs": [
    {
     "name": "stdout",
     "output_type": "stream",
     "text": [
      "Тестовый комментарий\n"
     ]
    }
   ],
   "source": [
    "for i in comment:\n",
    "    print(i.content)"
   ]
  },
  {
   "cell_type": "code",
   "execution_count": 15,
   "id": "53fde0d4",
   "metadata": {},
   "outputs": [],
   "source": [
    "from discussions.forms import DiscussionCreateForm"
   ]
  },
  {
   "cell_type": "code",
   "execution_count": 16,
   "id": "deda19a1",
   "metadata": {},
   "outputs": [],
   "source": [
    "f = DiscussionCreateForm"
   ]
  },
  {
   "cell_type": "code",
   "execution_count": 17,
   "id": "0d5e2c65",
   "metadata": {},
   "outputs": [],
   "source": [
    "p = Post.objects.get(id=1)"
   ]
  },
  {
   "cell_type": "code",
   "execution_count": 18,
   "id": "3ffc788b",
   "metadata": {},
   "outputs": [
    {
     "data": {
      "text/plain": [
       "<django.db.models.fields.related_descriptors.create_reverse_many_to_one_manager.<locals>.RelatedManager at 0x1cdccf9fd50>"
      ]
     },
     "execution_count": 18,
     "metadata": {},
     "output_type": "execute_result"
    }
   ],
   "source": [
    "p.comments"
   ]
  },
  {
   "cell_type": "code",
   "execution_count": 19,
   "id": "4bd9c54f",
   "metadata": {},
   "outputs": [
    {
     "ename": "AttributeError",
     "evalue": "'RelatedManager' object has no attribute 'objects'",
     "output_type": "error",
     "traceback": [
      "\u001b[1;31m---------------------------------------------------------------------------\u001b[0m",
      "\u001b[1;31mAttributeError\u001b[0m                            Traceback (most recent call last)",
      "Cell \u001b[1;32mIn[19], line 1\u001b[0m\n\u001b[1;32m----> 1\u001b[0m \u001b[43mp\u001b[49m\u001b[38;5;241;43m.\u001b[39;49m\u001b[43mcomments\u001b[49m\u001b[38;5;241;43m.\u001b[39;49m\u001b[43mobjects\u001b[49m\u001b[38;5;241m.\u001b[39mall()\n",
      "\u001b[1;31mAttributeError\u001b[0m: 'RelatedManager' object has no attribute 'objects'"
     ]
    }
   ],
   "source": [
    "p.comments.objects.all()"
   ]
  },
  {
   "cell_type": "code",
   "execution_count": 20,
   "id": "27373d7c",
   "metadata": {},
   "outputs": [
    {
     "data": {
      "text/plain": [
       "<QuerySet [<Comment: Comment object (1)>]>"
      ]
     },
     "execution_count": 20,
     "metadata": {},
     "output_type": "execute_result"
    }
   ],
   "source": [
    "p.comments.all()"
   ]
  },
  {
   "cell_type": "code",
   "execution_count": 21,
   "id": "d532542c",
   "metadata": {},
   "outputs": [
    {
     "data": {
      "text/plain": [
       "<Comment: Comment object (1)>"
      ]
     },
     "execution_count": 21,
     "metadata": {},
     "output_type": "execute_result"
    }
   ],
   "source": [
    "p.comments.all()[0]"
   ]
  },
  {
   "cell_type": "code",
   "execution_count": 22,
   "id": "87cdb69c",
   "metadata": {},
   "outputs": [
    {
     "ename": "SyntaxError",
     "evalue": "invalid syntax (3124108276.py, line 1)",
     "output_type": "error",
     "traceback": [
      "\u001b[1;36m  Cell \u001b[1;32mIn[22], line 1\u001b[1;36m\u001b[0m\n\u001b[1;33m    f = f('author': 'user2', 'content': ' через шел')\u001b[0m\n\u001b[1;37m                  ^\u001b[0m\n\u001b[1;31mSyntaxError\u001b[0m\u001b[1;31m:\u001b[0m invalid syntax\n"
     ]
    }
   ],
   "source": [
    "f = f('author': 'user2', 'content': ' через шел')"
   ]
  },
  {
   "cell_type": "code",
   "execution_count": 23,
   "id": "13094343",
   "metadata": {},
   "outputs": [
    {
     "ename": "TypeError",
     "evalue": "BaseModelForm.__init__() got an unexpected keyword argument 'author'",
     "output_type": "error",
     "traceback": [
      "\u001b[1;31m---------------------------------------------------------------------------\u001b[0m",
      "\u001b[1;31mTypeError\u001b[0m                                 Traceback (most recent call last)",
      "Cell \u001b[1;32mIn[23], line 1\u001b[0m\n\u001b[1;32m----> 1\u001b[0m f \u001b[38;5;241m=\u001b[39m \u001b[43mf\u001b[49m\u001b[43m(\u001b[49m\u001b[43mauthor\u001b[49m\u001b[38;5;241;43m=\u001b[39;49m\u001b[38;5;124;43m'\u001b[39;49m\u001b[38;5;124;43muser2\u001b[39;49m\u001b[38;5;124;43m'\u001b[39;49m\u001b[43m,\u001b[49m\u001b[43m \u001b[49m\u001b[43mcontent\u001b[49m\u001b[38;5;241;43m=\u001b[39;49m\u001b[38;5;124;43m'\u001b[39;49m\u001b[38;5;124;43mчерез шел\u001b[39;49m\u001b[38;5;124;43m'\u001b[39;49m\u001b[43m)\u001b[49m\n",
      "\u001b[1;31mTypeError\u001b[0m: BaseModelForm.__init__() got an unexpected keyword argument 'author'"
     ]
    }
   ],
   "source": [
    "f = f(author='user2', content='через шел')"
   ]
  },
  {
   "cell_type": "code",
   "execution_count": 24,
   "id": "8bdbbbc8",
   "metadata": {},
   "outputs": [
    {
     "ename": "TypeError",
     "evalue": "BaseModelForm.__init__() got an unexpected keyword argument 'author'",
     "output_type": "error",
     "traceback": [
      "\u001b[1;31m---------------------------------------------------------------------------\u001b[0m",
      "\u001b[1;31mTypeError\u001b[0m                                 Traceback (most recent call last)",
      "Cell \u001b[1;32mIn[24], line 1\u001b[0m\n\u001b[1;32m----> 1\u001b[0m f \u001b[38;5;241m=\u001b[39m \u001b[43mDiscussionCreateForm\u001b[49m\u001b[43m(\u001b[49m\u001b[43mauthor\u001b[49m\u001b[38;5;241;43m=\u001b[39;49m\u001b[38;5;124;43m'\u001b[39;49m\u001b[38;5;124;43muser2\u001b[39;49m\u001b[38;5;124;43m'\u001b[39;49m\u001b[43m,\u001b[49m\u001b[43m \u001b[49m\u001b[43mcontent\u001b[49m\u001b[38;5;241;43m=\u001b[39;49m\u001b[38;5;124;43m'\u001b[39;49m\u001b[38;5;124;43mчерез шел\u001b[39;49m\u001b[38;5;124;43m'\u001b[39;49m\u001b[43m)\u001b[49m\n",
      "\u001b[1;31mTypeError\u001b[0m: BaseModelForm.__init__() got an unexpected keyword argument 'author'"
     ]
    }
   ],
   "source": [
    "f = DiscussionCreateForm(author='user2', content='через шел')"
   ]
  },
  {
   "cell_type": "code",
   "execution_count": 25,
   "id": "ab4c7110",
   "metadata": {},
   "outputs": [
    {
     "ename": "TypeError",
     "evalue": "BaseModelForm.__init__() got an unexpected keyword argument 'author'",
     "output_type": "error",
     "traceback": [
      "\u001b[1;31m---------------------------------------------------------------------------\u001b[0m",
      "\u001b[1;31mTypeError\u001b[0m                                 Traceback (most recent call last)",
      "Cell \u001b[1;32mIn[25], line 1\u001b[0m\n\u001b[1;32m----> 1\u001b[0m f \u001b[38;5;241m=\u001b[39m \u001b[43mDiscussionCreateForm\u001b[49m\u001b[43m(\u001b[49m\u001b[43mauthor\u001b[49m\u001b[38;5;241;43m=\u001b[39;49m\u001b[38;5;124;43m'\u001b[39;49m\u001b[38;5;124;43mroot\u001b[39;49m\u001b[38;5;124;43m'\u001b[39;49m\u001b[43m,\u001b[49m\u001b[43m \u001b[49m\u001b[43mcontent\u001b[49m\u001b[38;5;241;43m=\u001b[39;49m\u001b[38;5;124;43m'\u001b[39;49m\u001b[38;5;124;43mчерез шел\u001b[39;49m\u001b[38;5;124;43m'\u001b[39;49m\u001b[43m)\u001b[49m\n",
      "\u001b[1;31mTypeError\u001b[0m: BaseModelForm.__init__() got an unexpected keyword argument 'author'"
     ]
    }
   ],
   "source": [
    "f = DiscussionCreateForm(author='root', content='через шел')"
   ]
  },
  {
   "cell_type": "code",
   "execution_count": 26,
   "id": "2059b5b8",
   "metadata": {},
   "outputs": [
    {
     "data": {
      "text/plain": [
       "discussions.forms.DiscussionCreateForm"
      ]
     },
     "execution_count": 26,
     "metadata": {},
     "output_type": "execute_result"
    }
   ],
   "source": [
    "f"
   ]
  },
  {
   "cell_type": "code",
   "execution_count": 27,
   "id": "786d64a5",
   "metadata": {},
   "outputs": [
    {
     "data": {
      "text/plain": [
       "mappingproxy({'__module__': 'discussions.forms',\n",
       "              'Meta': discussions.forms.DiscussionCreateForm.Meta,\n",
       "              'declared_fields': {},\n",
       "              '__doc__': None,\n",
       "              'media': <property at 0x1cdcd535da0>,\n",
       "              'base_fields': {'author': <django.forms.models.ModelChoiceField at 0x1cdc63d0650>,\n",
       "               'content': <django.forms.fields.CharField at 0x1cdcd51ec50>},\n",
       "              '_meta': <django.forms.models.ModelFormOptions at 0x1cdcd440b90>})"
      ]
     },
     "execution_count": 27,
     "metadata": {},
     "output_type": "execute_result"
    }
   ],
   "source": [
    "f.__dict__"
   ]
  },
  {
   "cell_type": "code",
   "execution_count": 28,
   "id": "453cc1d7",
   "metadata": {},
   "outputs": [
    {
     "ename": "SyntaxError",
     "evalue": "expression cannot contain assignment, perhaps you meant \"==\"? (991145894.py, line 1)",
     "output_type": "error",
     "traceback": [
      "\u001b[1;36m  Cell \u001b[1;32mIn[28], line 1\u001b[1;36m\u001b[0m\n\u001b[1;33m    f = DiscussionCreateForm('author'='root', 'content'='через шел')\u001b[0m\n\u001b[1;37m                             ^\u001b[0m\n\u001b[1;31mSyntaxError\u001b[0m\u001b[1;31m:\u001b[0m expression cannot contain assignment, perhaps you meant \"==\"?\n"
     ]
    }
   ],
   "source": [
    "f = DiscussionCreateForm('author'='root', 'content'='через шел')"
   ]
  },
  {
   "cell_type": "code",
   "execution_count": 29,
   "id": "b138e1f0",
   "metadata": {},
   "outputs": [
    {
     "ename": "SyntaxError",
     "evalue": "invalid syntax (3886220273.py, line 1)",
     "output_type": "error",
     "traceback": [
      "\u001b[1;36m  Cell \u001b[1;32mIn[29], line 1\u001b[1;36m\u001b[0m\n\u001b[1;33m    f = DiscussionCreateForm('author':'root', 'content':'через шел')\u001b[0m\n\u001b[1;37m                                     ^\u001b[0m\n\u001b[1;31mSyntaxError\u001b[0m\u001b[1;31m:\u001b[0m invalid syntax\n"
     ]
    }
   ],
   "source": [
    "f = DiscussionCreateForm('author':'root', 'content':'через шел')"
   ]
  },
  {
   "cell_type": "code",
   "execution_count": 30,
   "id": "342b355c",
   "metadata": {},
   "outputs": [],
   "source": [
    "f = DiscussionCreateForm()"
   ]
  },
  {
   "cell_type": "code",
   "execution_count": 31,
   "id": "49cae753",
   "metadata": {},
   "outputs": [
    {
     "data": {
      "text/plain": [
       "<DiscussionCreateForm bound=False, valid=Unknown, fields=(author;content)>"
      ]
     },
     "execution_count": 31,
     "metadata": {},
     "output_type": "execute_result"
    }
   ],
   "source": [
    "f"
   ]
  },
  {
   "cell_type": "code",
   "execution_count": 32,
   "id": "b79fdb4d",
   "metadata": {},
   "outputs": [],
   "source": [
    "d = {'author':'root', 'content':'через шел'}"
   ]
  },
  {
   "cell_type": "code",
   "execution_count": 33,
   "id": "6ac0d399",
   "metadata": {},
   "outputs": [],
   "source": [
    "f = DiscussionCreateForm(d)"
   ]
  },
  {
   "cell_type": "code",
   "execution_count": 34,
   "id": "f72ff2cf",
   "metadata": {},
   "outputs": [
    {
     "data": {
      "text/plain": [
       "<DiscussionCreateForm bound=True, valid=Unknown, fields=(author;content)>"
      ]
     },
     "execution_count": 34,
     "metadata": {},
     "output_type": "execute_result"
    }
   ],
   "source": [
    "f"
   ]
  },
  {
   "cell_type": "code",
   "execution_count": 35,
   "id": "062b94eb",
   "metadata": {},
   "outputs": [
    {
     "data": {
      "text/plain": [
       "False"
      ]
     },
     "execution_count": 35,
     "metadata": {},
     "output_type": "execute_result"
    }
   ],
   "source": [
    "f.is_valid()"
   ]
  },
  {
   "cell_type": "code",
   "execution_count": 36,
   "id": "9d051db4",
   "metadata": {},
   "outputs": [
    {
     "data": {
      "text/plain": [
       "{'author': ['Select a valid choice. That choice is not one of the available choices.']}"
      ]
     },
     "execution_count": 36,
     "metadata": {},
     "output_type": "execute_result"
    }
   ],
   "source": [
    "f.errors"
   ]
  },
  {
   "cell_type": "code",
   "execution_count": 37,
   "id": "18f02b4e",
   "metadata": {},
   "outputs": [],
   "source": [
    "from django.contrib.auth.models import User\n",
    "user=User.objects.create_user('foo', password='bar')\n",
    "user.is_superuser=False\n",
    "user.is_staff=False\n",
    "user.save()"
   ]
  },
  {
   "cell_type": "code",
   "execution_count": 38,
   "id": "e0fb2b7c",
   "metadata": {},
   "outputs": [],
   "source": [
    "d = {'author':user, 'content':'через шел'}"
   ]
  },
  {
   "cell_type": "code",
   "execution_count": 39,
   "id": "0478c667",
   "metadata": {},
   "outputs": [],
   "source": [
    "f = DiscussionCreateForm(d)"
   ]
  },
  {
   "cell_type": "code",
   "execution_count": 40,
   "id": "61ed51ba",
   "metadata": {},
   "outputs": [
    {
     "data": {
      "text/plain": [
       "<DiscussionCreateForm bound=True, valid=Unknown, fields=(author;content)>"
      ]
     },
     "execution_count": 40,
     "metadata": {},
     "output_type": "execute_result"
    }
   ],
   "source": [
    "f"
   ]
  },
  {
   "cell_type": "code",
   "execution_count": 41,
   "id": "496d84f7",
   "metadata": {},
   "outputs": [
    {
     "data": {
      "text/plain": [
       "{}"
      ]
     },
     "execution_count": 41,
     "metadata": {},
     "output_type": "execute_result"
    }
   ],
   "source": [
    "f.errors"
   ]
  },
  {
   "cell_type": "code",
   "execution_count": 42,
   "id": "dec41a5f",
   "metadata": {},
   "outputs": [
    {
     "data": {
      "text/plain": [
       "True"
      ]
     },
     "execution_count": 42,
     "metadata": {},
     "output_type": "execute_result"
    }
   ],
   "source": [
    "f.is_valid()"
   ]
  },
  {
   "cell_type": "code",
   "execution_count": 43,
   "id": "628856c3",
   "metadata": {},
   "outputs": [
    {
     "data": {
      "text/plain": [
       "{'author': <User: foo>, 'content': 'через шел'}"
      ]
     },
     "execution_count": 43,
     "metadata": {},
     "output_type": "execute_result"
    }
   ],
   "source": [
    "f.cleaned_data"
   ]
  },
  {
   "cell_type": "code",
   "execution_count": 44,
   "id": "80a6abad",
   "metadata": {},
   "outputs": [
    {
     "data": {
      "text/plain": [
       "<django.db.models.fields.related_descriptors.create_reverse_many_to_one_manager.<locals>.RelatedManager at 0x1cdcd4dba50>"
      ]
     },
     "execution_count": 44,
     "metadata": {},
     "output_type": "execute_result"
    }
   ],
   "source": [
    "p.comments"
   ]
  },
  {
   "cell_type": "code",
   "execution_count": 45,
   "id": "fbc858f9",
   "metadata": {},
   "outputs": [
    {
     "ename": "ValueError",
     "evalue": "<Comment: Comment object (None)> instance isn't saved. Use bulk=False or save the object first.",
     "output_type": "error",
     "traceback": [
      "\u001b[1;31m---------------------------------------------------------------------------\u001b[0m",
      "\u001b[1;31mValueError\u001b[0m                                Traceback (most recent call last)",
      "Cell \u001b[1;32mIn[45], line 1\u001b[0m\n\u001b[1;32m----> 1\u001b[0m \u001b[43mp\u001b[49m\u001b[38;5;241;43m.\u001b[39;49m\u001b[43mcomments\u001b[49m\u001b[38;5;241;43m.\u001b[39;49m\u001b[43madd\u001b[49m\u001b[43m(\u001b[49m\u001b[43mComment\u001b[49m\u001b[43m(\u001b[49m\u001b[43mauthor\u001b[49m\u001b[38;5;241;43m=\u001b[39;49m\u001b[43mf\u001b[49m\u001b[38;5;241;43m.\u001b[39;49m\u001b[43mcleaned_data\u001b[49m\u001b[43m[\u001b[49m\u001b[38;5;124;43m'\u001b[39;49m\u001b[38;5;124;43mauthor\u001b[39;49m\u001b[38;5;124;43m'\u001b[39;49m\u001b[43m]\u001b[49m\u001b[43m,\u001b[49m\u001b[43m \u001b[49m\u001b[43mcontent\u001b[49m\u001b[38;5;241;43m=\u001b[39;49m\u001b[43mf\u001b[49m\u001b[38;5;241;43m.\u001b[39;49m\u001b[43mcleaned_data\u001b[49m\u001b[43m[\u001b[49m\u001b[38;5;124;43m'\u001b[39;49m\u001b[38;5;124;43mcontent\u001b[39;49m\u001b[38;5;124;43m'\u001b[39;49m\u001b[43m]\u001b[49m\u001b[43m)\u001b[49m\u001b[43m)\u001b[49m\n",
      "File \u001b[1;32mD:\\PITON\\djshop\\venv\\Lib\\site-packages\\django\\db\\models\\fields\\related_descriptors.py:744\u001b[0m, in \u001b[0;36mcreate_reverse_many_to_one_manager.<locals>.RelatedManager.add\u001b[1;34m(self, bulk, *objs)\u001b[0m\n\u001b[0;32m    742\u001b[0m     check_and_update_obj(obj)\n\u001b[0;32m    743\u001b[0m     \u001b[38;5;28;01mif\u001b[39;00m obj\u001b[38;5;241m.\u001b[39m_state\u001b[38;5;241m.\u001b[39madding \u001b[38;5;129;01mor\u001b[39;00m obj\u001b[38;5;241m.\u001b[39m_state\u001b[38;5;241m.\u001b[39mdb \u001b[38;5;241m!=\u001b[39m db:\n\u001b[1;32m--> 744\u001b[0m         \u001b[38;5;28;01mraise\u001b[39;00m \u001b[38;5;167;01mValueError\u001b[39;00m(\n\u001b[0;32m    745\u001b[0m             \u001b[38;5;124m\"\u001b[39m\u001b[38;5;132;01m%r\u001b[39;00m\u001b[38;5;124m instance isn\u001b[39m\u001b[38;5;124m'\u001b[39m\u001b[38;5;124mt saved. Use bulk=False or save \u001b[39m\u001b[38;5;124m\"\u001b[39m\n\u001b[0;32m    746\u001b[0m             \u001b[38;5;124m\"\u001b[39m\u001b[38;5;124mthe object first.\u001b[39m\u001b[38;5;124m\"\u001b[39m \u001b[38;5;241m%\u001b[39m obj\n\u001b[0;32m    747\u001b[0m         )\n\u001b[0;32m    748\u001b[0m     pks\u001b[38;5;241m.\u001b[39mappend(obj\u001b[38;5;241m.\u001b[39mpk)\n\u001b[0;32m    749\u001b[0m \u001b[38;5;28mself\u001b[39m\u001b[38;5;241m.\u001b[39mmodel\u001b[38;5;241m.\u001b[39m_base_manager\u001b[38;5;241m.\u001b[39musing(db)\u001b[38;5;241m.\u001b[39mfilter(pk__in\u001b[38;5;241m=\u001b[39mpks)\u001b[38;5;241m.\u001b[39mupdate(\n\u001b[0;32m    750\u001b[0m     \u001b[38;5;241m*\u001b[39m\u001b[38;5;241m*\u001b[39m{\n\u001b[0;32m    751\u001b[0m         \u001b[38;5;28mself\u001b[39m\u001b[38;5;241m.\u001b[39mfield\u001b[38;5;241m.\u001b[39mname: \u001b[38;5;28mself\u001b[39m\u001b[38;5;241m.\u001b[39minstance,\n\u001b[0;32m    752\u001b[0m     }\n\u001b[0;32m    753\u001b[0m )\n",
      "\u001b[1;31mValueError\u001b[0m: <Comment: Comment object (None)> instance isn't saved. Use bulk=False or save the object first."
     ]
    }
   ],
   "source": [
    "c = p.comments.add(Comment(author=f.cleaned_data['author'], content=f.cleaned_data['content']))"
   ]
  },
  {
   "cell_type": "code",
   "execution_count": 46,
   "id": "0ff8903c",
   "metadata": {},
   "outputs": [
    {
     "ename": "ValueError",
     "evalue": "<Comment: Comment object (None)> instance isn't saved. Use bulk=False or save the object first.",
     "output_type": "error",
     "traceback": [
      "\u001b[1;31m---------------------------------------------------------------------------\u001b[0m",
      "\u001b[1;31mValueError\u001b[0m                                Traceback (most recent call last)",
      "Cell \u001b[1;32mIn[46], line 1\u001b[0m\n\u001b[1;32m----> 1\u001b[0m c \u001b[38;5;241m=\u001b[39m \u001b[43mp\u001b[49m\u001b[38;5;241;43m.\u001b[39;49m\u001b[43mcomments\u001b[49m\u001b[38;5;241;43m.\u001b[39;49m\u001b[43madd\u001b[49m\u001b[43m(\u001b[49m\u001b[43mComment\u001b[49m\u001b[43m(\u001b[49m\u001b[43mauthor\u001b[49m\u001b[38;5;241;43m=\u001b[39;49m\u001b[43mf\u001b[49m\u001b[38;5;241;43m.\u001b[39;49m\u001b[43mcleaned_data\u001b[49m\u001b[43m[\u001b[49m\u001b[38;5;124;43m'\u001b[39;49m\u001b[38;5;124;43mauthor\u001b[39;49m\u001b[38;5;124;43m'\u001b[39;49m\u001b[43m]\u001b[49m\u001b[43m,\u001b[49m\u001b[43m \u001b[49m\u001b[43mcontent\u001b[49m\u001b[38;5;241;43m=\u001b[39;49m\u001b[43mf\u001b[49m\u001b[38;5;241;43m.\u001b[39;49m\u001b[43mcleaned_data\u001b[49m\u001b[43m[\u001b[49m\u001b[38;5;124;43m'\u001b[39;49m\u001b[38;5;124;43mcontent\u001b[39;49m\u001b[38;5;124;43m'\u001b[39;49m\u001b[43m]\u001b[49m\u001b[43m)\u001b[49m\u001b[43m)\u001b[49m\n",
      "File \u001b[1;32mD:\\PITON\\djshop\\venv\\Lib\\site-packages\\django\\db\\models\\fields\\related_descriptors.py:744\u001b[0m, in \u001b[0;36mcreate_reverse_many_to_one_manager.<locals>.RelatedManager.add\u001b[1;34m(self, bulk, *objs)\u001b[0m\n\u001b[0;32m    742\u001b[0m     check_and_update_obj(obj)\n\u001b[0;32m    743\u001b[0m     \u001b[38;5;28;01mif\u001b[39;00m obj\u001b[38;5;241m.\u001b[39m_state\u001b[38;5;241m.\u001b[39madding \u001b[38;5;129;01mor\u001b[39;00m obj\u001b[38;5;241m.\u001b[39m_state\u001b[38;5;241m.\u001b[39mdb \u001b[38;5;241m!=\u001b[39m db:\n\u001b[1;32m--> 744\u001b[0m         \u001b[38;5;28;01mraise\u001b[39;00m \u001b[38;5;167;01mValueError\u001b[39;00m(\n\u001b[0;32m    745\u001b[0m             \u001b[38;5;124m\"\u001b[39m\u001b[38;5;132;01m%r\u001b[39;00m\u001b[38;5;124m instance isn\u001b[39m\u001b[38;5;124m'\u001b[39m\u001b[38;5;124mt saved. Use bulk=False or save \u001b[39m\u001b[38;5;124m\"\u001b[39m\n\u001b[0;32m    746\u001b[0m             \u001b[38;5;124m\"\u001b[39m\u001b[38;5;124mthe object first.\u001b[39m\u001b[38;5;124m\"\u001b[39m \u001b[38;5;241m%\u001b[39m obj\n\u001b[0;32m    747\u001b[0m         )\n\u001b[0;32m    748\u001b[0m     pks\u001b[38;5;241m.\u001b[39mappend(obj\u001b[38;5;241m.\u001b[39mpk)\n\u001b[0;32m    749\u001b[0m \u001b[38;5;28mself\u001b[39m\u001b[38;5;241m.\u001b[39mmodel\u001b[38;5;241m.\u001b[39m_base_manager\u001b[38;5;241m.\u001b[39musing(db)\u001b[38;5;241m.\u001b[39mfilter(pk__in\u001b[38;5;241m=\u001b[39mpks)\u001b[38;5;241m.\u001b[39mupdate(\n\u001b[0;32m    750\u001b[0m     \u001b[38;5;241m*\u001b[39m\u001b[38;5;241m*\u001b[39m{\n\u001b[0;32m    751\u001b[0m         \u001b[38;5;28mself\u001b[39m\u001b[38;5;241m.\u001b[39mfield\u001b[38;5;241m.\u001b[39mname: \u001b[38;5;28mself\u001b[39m\u001b[38;5;241m.\u001b[39minstance,\n\u001b[0;32m    752\u001b[0m     }\n\u001b[0;32m    753\u001b[0m )\n",
      "\u001b[1;31mValueError\u001b[0m: <Comment: Comment object (None)> instance isn't saved. Use bulk=False or save the object first."
     ]
    }
   ],
   "source": [
    "c = p.comments.add(Comment(author=f.cleaned_data['author'], content=f.cleaned_data['content']))"
   ]
  },
  {
   "cell_type": "code",
   "execution_count": 47,
   "id": "f792d254",
   "metadata": {},
   "outputs": [],
   "source": [
    "c = Comment(author=f.cleaned_data['author'], content=f.cleaned_data['content'])"
   ]
  },
  {
   "cell_type": "code",
   "execution_count": 48,
   "id": "6d3b3f65",
   "metadata": {},
   "outputs": [
    {
     "ename": "ValueError",
     "evalue": "<Comment: Comment object (None)> instance isn't saved. Use bulk=False or save the object first.",
     "output_type": "error",
     "traceback": [
      "\u001b[1;31m---------------------------------------------------------------------------\u001b[0m",
      "\u001b[1;31mValueError\u001b[0m                                Traceback (most recent call last)",
      "Cell \u001b[1;32mIn[48], line 1\u001b[0m\n\u001b[1;32m----> 1\u001b[0m \u001b[43mp\u001b[49m\u001b[38;5;241;43m.\u001b[39;49m\u001b[43mcomments\u001b[49m\u001b[38;5;241;43m.\u001b[39;49m\u001b[43madd\u001b[49m\u001b[43m(\u001b[49m\u001b[43mc\u001b[49m\u001b[43m)\u001b[49m\n",
      "File \u001b[1;32mD:\\PITON\\djshop\\venv\\Lib\\site-packages\\django\\db\\models\\fields\\related_descriptors.py:744\u001b[0m, in \u001b[0;36mcreate_reverse_many_to_one_manager.<locals>.RelatedManager.add\u001b[1;34m(self, bulk, *objs)\u001b[0m\n\u001b[0;32m    742\u001b[0m     check_and_update_obj(obj)\n\u001b[0;32m    743\u001b[0m     \u001b[38;5;28;01mif\u001b[39;00m obj\u001b[38;5;241m.\u001b[39m_state\u001b[38;5;241m.\u001b[39madding \u001b[38;5;129;01mor\u001b[39;00m obj\u001b[38;5;241m.\u001b[39m_state\u001b[38;5;241m.\u001b[39mdb \u001b[38;5;241m!=\u001b[39m db:\n\u001b[1;32m--> 744\u001b[0m         \u001b[38;5;28;01mraise\u001b[39;00m \u001b[38;5;167;01mValueError\u001b[39;00m(\n\u001b[0;32m    745\u001b[0m             \u001b[38;5;124m\"\u001b[39m\u001b[38;5;132;01m%r\u001b[39;00m\u001b[38;5;124m instance isn\u001b[39m\u001b[38;5;124m'\u001b[39m\u001b[38;5;124mt saved. Use bulk=False or save \u001b[39m\u001b[38;5;124m\"\u001b[39m\n\u001b[0;32m    746\u001b[0m             \u001b[38;5;124m\"\u001b[39m\u001b[38;5;124mthe object first.\u001b[39m\u001b[38;5;124m\"\u001b[39m \u001b[38;5;241m%\u001b[39m obj\n\u001b[0;32m    747\u001b[0m         )\n\u001b[0;32m    748\u001b[0m     pks\u001b[38;5;241m.\u001b[39mappend(obj\u001b[38;5;241m.\u001b[39mpk)\n\u001b[0;32m    749\u001b[0m \u001b[38;5;28mself\u001b[39m\u001b[38;5;241m.\u001b[39mmodel\u001b[38;5;241m.\u001b[39m_base_manager\u001b[38;5;241m.\u001b[39musing(db)\u001b[38;5;241m.\u001b[39mfilter(pk__in\u001b[38;5;241m=\u001b[39mpks)\u001b[38;5;241m.\u001b[39mupdate(\n\u001b[0;32m    750\u001b[0m     \u001b[38;5;241m*\u001b[39m\u001b[38;5;241m*\u001b[39m{\n\u001b[0;32m    751\u001b[0m         \u001b[38;5;28mself\u001b[39m\u001b[38;5;241m.\u001b[39mfield\u001b[38;5;241m.\u001b[39mname: \u001b[38;5;28mself\u001b[39m\u001b[38;5;241m.\u001b[39minstance,\n\u001b[0;32m    752\u001b[0m     }\n\u001b[0;32m    753\u001b[0m )\n",
      "\u001b[1;31mValueError\u001b[0m: <Comment: Comment object (None)> instance isn't saved. Use bulk=False or save the object first."
     ]
    }
   ],
   "source": [
    "p.comments.add(c)"
   ]
  },
  {
   "cell_type": "code",
   "execution_count": 49,
   "id": "ba6bbe80",
   "metadata": {},
   "outputs": [
    {
     "data": {
      "text/plain": [
       "<Comment: Comment object (None)>"
      ]
     },
     "execution_count": 49,
     "metadata": {},
     "output_type": "execute_result"
    }
   ],
   "source": [
    "c"
   ]
  },
  {
   "cell_type": "code",
   "execution_count": 50,
   "id": "562cee11",
   "metadata": {},
   "outputs": [
    {
     "data": {
      "text/plain": [
       "{'author': <User: foo>, 'content': 'через шел'}"
      ]
     },
     "execution_count": 50,
     "metadata": {},
     "output_type": "execute_result"
    }
   ],
   "source": [
    "f.cleaned_data"
   ]
  },
  {
   "cell_type": "code",
   "execution_count": 51,
   "id": "85286452",
   "metadata": {},
   "outputs": [
    {
     "data": {
      "text/plain": [
       "{'_state': <django.db.models.base.ModelState at 0x1cdcda1b250>,\n",
       " 'id': None,\n",
       " 'post_id': 1,\n",
       " 'author_id': 2,\n",
       " 'date_created': datetime.datetime(2023, 2, 20, 19, 41, 37, 47257, tzinfo=datetime.timezone.utc),\n",
       " 'date_updated': None,\n",
       " 'content': 'через шел'}"
      ]
     },
     "execution_count": 51,
     "metadata": {},
     "output_type": "execute_result"
    }
   ],
   "source": [
    "c.__dict__"
   ]
  },
  {
   "cell_type": "code",
   "execution_count": 52,
   "id": "def0d972",
   "metadata": {},
   "outputs": [],
   "source": [
    "c.save()"
   ]
  },
  {
   "cell_type": "code",
   "execution_count": 53,
   "id": "7948f44e",
   "metadata": {},
   "outputs": [
    {
     "data": {
      "text/plain": [
       "<Comment: Comment object (2)>"
      ]
     },
     "execution_count": 53,
     "metadata": {},
     "output_type": "execute_result"
    }
   ],
   "source": [
    "c"
   ]
  },
  {
   "cell_type": "code",
   "execution_count": 54,
   "id": "42ddf133",
   "metadata": {},
   "outputs": [],
   "source": [
    "p.comments.add(c)"
   ]
  },
  {
   "cell_type": "code",
   "execution_count": 55,
   "id": "2dd3a20c",
   "metadata": {},
   "outputs": [
    {
     "data": {
      "text/plain": [
       "<QuerySet [<Comment: Comment object (1)>, <Comment: Comment object (2)>]>"
      ]
     },
     "execution_count": 55,
     "metadata": {},
     "output_type": "execute_result"
    }
   ],
   "source": [
    "p.comments.all()"
   ]
  },
  {
   "cell_type": "code",
   "execution_count": 56,
   "id": "4f1a961a",
   "metadata": {},
   "outputs": [
    {
     "data": {
      "text/plain": [
       "<Comment: Comment object (2)>"
      ]
     },
     "execution_count": 56,
     "metadata": {},
     "output_type": "execute_result"
    }
   ],
   "source": [
    "c"
   ]
  },
  {
   "cell_type": "code",
   "execution_count": 57,
   "id": "149f986c",
   "metadata": {},
   "outputs": [
    {
     "data": {
      "text/plain": [
       "{'_state': <django.db.models.base.ModelState at 0x1cdcda1b250>,\n",
       " 'id': 2,\n",
       " 'post_id': 1,\n",
       " 'author_id': 2,\n",
       " 'date_created': datetime.datetime(2023, 2, 20, 19, 41, 37, 47257, tzinfo=datetime.timezone.utc),\n",
       " 'date_updated': datetime.datetime(2023, 2, 20, 19, 43, 55, 456613, tzinfo=datetime.timezone.utc),\n",
       " 'content': 'через шел'}"
      ]
     },
     "execution_count": 57,
     "metadata": {},
     "output_type": "execute_result"
    }
   ],
   "source": [
    "c.__dict__"
   ]
  },
  {
   "cell_type": "code",
   "execution_count": 58,
   "id": "3c38937d",
   "metadata": {},
   "outputs": [],
   "source": [
    "p1 = Post.objects.get(pk=1)"
   ]
  },
  {
   "cell_type": "code",
   "execution_count": 59,
   "id": "84efbe1b",
   "metadata": {},
   "outputs": [
    {
     "data": {
      "text/plain": [
       "<Post: BWM>"
      ]
     },
     "execution_count": 59,
     "metadata": {},
     "output_type": "execute_result"
    }
   ],
   "source": [
    "p1"
   ]
  },
  {
   "cell_type": "code",
   "execution_count": 60,
   "id": "0afe96d2",
   "metadata": {},
   "outputs": [
    {
     "ename": "TypeError",
     "evalue": "'RelatedManager' object is not subscriptable",
     "output_type": "error",
     "traceback": [
      "\u001b[1;31m---------------------------------------------------------------------------\u001b[0m",
      "\u001b[1;31mTypeError\u001b[0m                                 Traceback (most recent call last)",
      "Cell \u001b[1;32mIn[60], line 1\u001b[0m\n\u001b[1;32m----> 1\u001b[0m \u001b[43mp1\u001b[49m\u001b[38;5;241;43m.\u001b[39;49m\u001b[43mcomments\u001b[49m\u001b[43m[\u001b[49m\u001b[38;5;241;43m1\u001b[39;49m\u001b[43m]\u001b[49m\n",
      "\u001b[1;31mTypeError\u001b[0m: 'RelatedManager' object is not subscriptable"
     ]
    }
   ],
   "source": [
    "p1.comments[1]"
   ]
  },
  {
   "cell_type": "code",
   "execution_count": 61,
   "id": "080e945c",
   "metadata": {},
   "outputs": [
    {
     "data": {
      "text/plain": [
       "<Comment: Comment object (2)>"
      ]
     },
     "execution_count": 61,
     "metadata": {},
     "output_type": "execute_result"
    }
   ],
   "source": [
    "p1.comments.all()[1]"
   ]
  },
  {
   "cell_type": "code",
   "execution_count": 62,
   "id": "9465f53d",
   "metadata": {},
   "outputs": [
    {
     "data": {
      "text/plain": [
       "{'_state': <django.db.models.base.ModelState at 0x1cdcd771a90>,\n",
       " 'id': 1,\n",
       " 'title': 'BWM',\n",
       " 'content': 'asdsadasdsa',\n",
       " 'photo': <ImageFieldFile: photos/2023/02/20/bmw_i8pSvtk.jpeg>,\n",
       " 'date_created': datetime.datetime(2023, 2, 20, 17, 36, 1, tzinfo=datetime.timezone.utc),\n",
       " 'date_updated': datetime.datetime(2023, 2, 20, 21, 29, 49, 135243, tzinfo=datetime.timezone.utc),\n",
       " 'author_id': 1,\n",
       " 'slug': 'bwm',\n",
       " '_django_cleanup_original_cache': {'photo': <ImageFieldFile: photos/2023/02/20/bmw_i8pSvtk.jpeg>}}"
      ]
     },
     "execution_count": 62,
     "metadata": {},
     "output_type": "execute_result"
    }
   ],
   "source": [
    "p1.__dict__"
   ]
  },
  {
   "cell_type": "code",
   "execution_count": 63,
   "id": "aa97ce34",
   "metadata": {},
   "outputs": [],
   "source": [
    "pc1 = p1.comments.all()[1]"
   ]
  },
  {
   "cell_type": "code",
   "execution_count": 64,
   "id": "597e82cb",
   "metadata": {},
   "outputs": [
    {
     "data": {
      "text/plain": [
       "<Comment: Comment object (2)>"
      ]
     },
     "execution_count": 64,
     "metadata": {},
     "output_type": "execute_result"
    }
   ],
   "source": [
    "pc1"
   ]
  },
  {
   "cell_type": "code",
   "execution_count": 65,
   "id": "15dfe2d2",
   "metadata": {},
   "outputs": [
    {
     "data": {
      "text/plain": [
       "{'_state': <django.db.models.base.ModelState at 0x1cdcd7cfcd0>,\n",
       " 'id': 2,\n",
       " 'post_id': 1,\n",
       " 'author_id': 2,\n",
       " 'date_created': datetime.datetime(2023, 2, 20, 19, 41, 37, 47257, tzinfo=datetime.timezone.utc),\n",
       " 'date_updated': datetime.datetime(2023, 2, 20, 19, 43, 55, 456613, tzinfo=datetime.timezone.utc),\n",
       " 'content': 'через шел'}"
      ]
     },
     "execution_count": 65,
     "metadata": {},
     "output_type": "execute_result"
    }
   ],
   "source": [
    "pc1.__dict__"
   ]
  },
  {
   "cell_type": "code",
   "execution_count": null,
   "id": "4598bd1e",
   "metadata": {},
   "outputs": [],
   "source": []
  }
 ],
 "metadata": {
  "kernelspec": {
   "display_name": "Django Shell-Plus",
   "language": "python",
   "name": "django_extensions"
  },
  "language_info": {
   "codemirror_mode": {
    "name": "ipython",
    "version": 3
   },
   "file_extension": ".py",
   "mimetype": "text/x-python",
   "name": "python",
   "nbconvert_exporter": "python",
   "pygments_lexer": "ipython3",
   "version": "3.11.1"
  }
 },
 "nbformat": 4,
 "nbformat_minor": 5
}
