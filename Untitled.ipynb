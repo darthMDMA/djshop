{
 "cells": [
  {
   "cell_type": "code",
   "execution_count": 2,
   "id": "9abddc87",
   "metadata": {},
   "outputs": [],
   "source": [
    "from django.db import models\n",
    "from blog.models import Post\n",
    "\n",
    "\n"
   ]
  },
  {
   "cell_type": "code",
   "execution_count": 3,
   "id": "fa9fa602",
   "metadata": {},
   "outputs": [
    {
     "ename": "SyntaxError",
     "evalue": "invalid syntax (3027644763.py, line 1)",
     "output_type": "error",
     "traceback": [
      "\u001b[1;36m  Cell \u001b[1;32mIn[3], line 1\u001b[1;36m\u001b[0m\n\u001b[1;33m    ***>>> fruit = Fruit.objects.create(name='Apple')\u001b[0m\n\u001b[1;37m    ^\u001b[0m\n\u001b[1;31mSyntaxError\u001b[0m\u001b[1;31m:\u001b[0m invalid syntax\n"
     ]
    }
   ],
   "source": [
    "\n",
    "post_test_title = Post.objects.create(title='Vasia')\n",
    "post_test_title.save()\n",
    "Post.objects.values_list('title', flat=True)"
   ]
  },
  {
   "cell_type": "code",
   "execution_count": 4,
   "id": "f2152fa9",
   "metadata": {},
   "outputs": [
    {
     "data": {
      "text/plain": [
       "<QuerySet ['Vasia']>"
      ]
     },
     "execution_count": 4,
     "metadata": {},
     "output_type": "execute_result"
    }
   ],
   "source": [
    "\n",
    "post_test_title = Post.objects.create(title='Vasia')\n",
    "post_test_title.save()\n",
    "Post.objects.values_list('title', flat=True)"
   ]
  },
  {
   "cell_type": "code",
   "execution_count": null,
   "id": "dda73c1f",
   "metadata": {},
   "outputs": [],
   "source": [
    " "
   ]
  }
 ],
 "metadata": {
  "kernelspec": {
   "display_name": "Django Shell-Plus",
   "language": "python",
   "name": "django_extensions"
  },
  "language_info": {
   "codemirror_mode": {
    "name": "ipython",
    "version": 3
   },
   "file_extension": ".py",
   "mimetype": "text/x-python",
   "name": "python",
   "nbconvert_exporter": "python",
   "pygments_lexer": "ipython3",
   "version": "3.11.1"
  }
 },
 "nbformat": 4,
 "nbformat_minor": 5
}
